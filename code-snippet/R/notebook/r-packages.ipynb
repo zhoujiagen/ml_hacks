{
 "cells": [
  {
   "cell_type": "markdown",
   "metadata": {},
   "source": [
    "# 查看R包的清单"
   ]
  },
  {
   "cell_type": "code",
   "execution_count": 1,
   "metadata": {},
   "outputs": [
    {
     "data": {
      "text/html": [
       "<style>\n",
       ".list-inline {list-style: none; margin:0; padding: 0}\n",
       ".list-inline>li {display: inline-block}\n",
       ".list-inline>li:not(:last-child)::after {content: \"\\00b7\"; padding: 0 .5ex}\n",
       "</style>\n",
       "<ol class=list-inline><li>'datasets'</li><li>'utils'</li><li>'grDevices'</li><li>'graphics'</li><li>'stats'</li><li>'methods'</li></ol>\n"
      ],
      "text/latex": [
       "\\begin{enumerate*}\n",
       "\\item 'datasets'\n",
       "\\item 'utils'\n",
       "\\item 'grDevices'\n",
       "\\item 'graphics'\n",
       "\\item 'stats'\n",
       "\\item 'methods'\n",
       "\\end{enumerate*}\n"
      ],
      "text/markdown": [
       "1. 'datasets'\n",
       "2. 'utils'\n",
       "3. 'grDevices'\n",
       "4. 'graphics'\n",
       "5. 'stats'\n",
       "6. 'methods'\n",
       "\n",
       "\n"
      ],
      "text/plain": [
       "[1] \"datasets\"  \"utils\"     \"grDevices\" \"graphics\"  \"stats\"     \"methods\"  "
      ]
     },
     "metadata": {},
     "output_type": "display_data"
    }
   ],
   "source": [
    "# 默认加载的R包的清单\n",
    "getOption(\"defaultPackages\")"
   ]
  },
  {
   "cell_type": "code",
   "execution_count": 3,
   "metadata": {},
   "outputs": [
    {
     "data": {
      "text/html": [
       "<style>\n",
       ".list-inline {list-style: none; margin:0; padding: 0}\n",
       ".list-inline>li {display: inline-block}\n",
       ".list-inline>li:not(:last-child)::after {content: \"\\00b7\"; padding: 0 .5ex}\n",
       "</style>\n",
       "<ol class=list-inline><li>'stats'</li><li>'graphics'</li><li>'grDevices'</li><li>'utils'</li><li>'datasets'</li><li>'methods'</li><li>'base'</li></ol>\n"
      ],
      "text/latex": [
       "\\begin{enumerate*}\n",
       "\\item 'stats'\n",
       "\\item 'graphics'\n",
       "\\item 'grDevices'\n",
       "\\item 'utils'\n",
       "\\item 'datasets'\n",
       "\\item 'methods'\n",
       "\\item 'base'\n",
       "\\end{enumerate*}\n"
      ],
      "text/markdown": [
       "1. 'stats'\n",
       "2. 'graphics'\n",
       "3. 'grDevices'\n",
       "4. 'utils'\n",
       "5. 'datasets'\n",
       "6. 'methods'\n",
       "7. 'base'\n",
       "\n",
       "\n"
      ],
      "text/plain": [
       "[1] \"stats\"     \"graphics\"  \"grDevices\" \"utils\"     \"datasets\"  \"methods\"  \n",
       "[7] \"base\"     "
      ]
     },
     "metadata": {},
     "output_type": "display_data"
    }
   ],
   "source": [
    "# 当前已加载的R包的清单\n",
    "(.packages()) # .packages密盖ing"
   ]
  },
  {
   "cell_type": "code",
   "execution_count": 5,
   "metadata": {},
   "outputs": [
    {
     "data": {
      "text/html": [
       "<style>\n",
       ".list-inline {list-style: none; margin:0; padding: 0}\n",
       ".list-inline>li {display: inline-block}\n",
       ".list-inline>li:not(:last-child)::after {content: \"\\00b7\"; padding: 0 .5ex}\n",
       "</style>\n",
       "<ol class=list-inline><li>'assertthat'</li><li>'base'</li><li>'base64enc'</li><li>'boot'</li><li>'class'</li><li>'cli'</li><li>'cluster'</li><li>'codetools'</li><li>'compiler'</li><li>'crayon'</li><li>'datasets'</li><li>'digest'</li><li>'ellipsis'</li><li>'evaluate'</li><li>'fansi'</li><li>'foreign'</li><li>'glue'</li><li>'graphics'</li><li>'grDevices'</li><li>'grid'</li><li>'htmltools'</li><li>'IRdisplay'</li><li>'IRkernel'</li><li>'jsonlite'</li><li>'KernSmooth'</li><li>'lattice'</li><li>'lifecycle'</li><li>'MASS'</li><li>'Matrix'</li><li>'methods'</li><li>'mgcv'</li><li>'nlme'</li><li>'nnet'</li><li>'nutshell'</li><li>'nutshell.audioscrobbler'</li><li>'nutshell.bbdb'</li><li>'parallel'</li><li>'pbdZMQ'</li><li>'pillar'</li><li>'repr'</li><li>'rlang'</li><li>'rpart'</li><li>'spatial'</li><li>'splines'</li><li>'stats'</li><li>'stats4'</li><li>'survival'</li><li>'tcltk'</li><li>'tools'</li><li>'utf8'</li><li>'utils'</li><li>'uuid'</li><li>'vctrs'</li></ol>\n"
      ],
      "text/latex": [
       "\\begin{enumerate*}\n",
       "\\item 'assertthat'\n",
       "\\item 'base'\n",
       "\\item 'base64enc'\n",
       "\\item 'boot'\n",
       "\\item 'class'\n",
       "\\item 'cli'\n",
       "\\item 'cluster'\n",
       "\\item 'codetools'\n",
       "\\item 'compiler'\n",
       "\\item 'crayon'\n",
       "\\item 'datasets'\n",
       "\\item 'digest'\n",
       "\\item 'ellipsis'\n",
       "\\item 'evaluate'\n",
       "\\item 'fansi'\n",
       "\\item 'foreign'\n",
       "\\item 'glue'\n",
       "\\item 'graphics'\n",
       "\\item 'grDevices'\n",
       "\\item 'grid'\n",
       "\\item 'htmltools'\n",
       "\\item 'IRdisplay'\n",
       "\\item 'IRkernel'\n",
       "\\item 'jsonlite'\n",
       "\\item 'KernSmooth'\n",
       "\\item 'lattice'\n",
       "\\item 'lifecycle'\n",
       "\\item 'MASS'\n",
       "\\item 'Matrix'\n",
       "\\item 'methods'\n",
       "\\item 'mgcv'\n",
       "\\item 'nlme'\n",
       "\\item 'nnet'\n",
       "\\item 'nutshell'\n",
       "\\item 'nutshell.audioscrobbler'\n",
       "\\item 'nutshell.bbdb'\n",
       "\\item 'parallel'\n",
       "\\item 'pbdZMQ'\n",
       "\\item 'pillar'\n",
       "\\item 'repr'\n",
       "\\item 'rlang'\n",
       "\\item 'rpart'\n",
       "\\item 'spatial'\n",
       "\\item 'splines'\n",
       "\\item 'stats'\n",
       "\\item 'stats4'\n",
       "\\item 'survival'\n",
       "\\item 'tcltk'\n",
       "\\item 'tools'\n",
       "\\item 'utf8'\n",
       "\\item 'utils'\n",
       "\\item 'uuid'\n",
       "\\item 'vctrs'\n",
       "\\end{enumerate*}\n"
      ],
      "text/markdown": [
       "1. 'assertthat'\n",
       "2. 'base'\n",
       "3. 'base64enc'\n",
       "4. 'boot'\n",
       "5. 'class'\n",
       "6. 'cli'\n",
       "7. 'cluster'\n",
       "8. 'codetools'\n",
       "9. 'compiler'\n",
       "10. 'crayon'\n",
       "11. 'datasets'\n",
       "12. 'digest'\n",
       "13. 'ellipsis'\n",
       "14. 'evaluate'\n",
       "15. 'fansi'\n",
       "16. 'foreign'\n",
       "17. 'glue'\n",
       "18. 'graphics'\n",
       "19. 'grDevices'\n",
       "20. 'grid'\n",
       "21. 'htmltools'\n",
       "22. 'IRdisplay'\n",
       "23. 'IRkernel'\n",
       "24. 'jsonlite'\n",
       "25. 'KernSmooth'\n",
       "26. 'lattice'\n",
       "27. 'lifecycle'\n",
       "28. 'MASS'\n",
       "29. 'Matrix'\n",
       "30. 'methods'\n",
       "31. 'mgcv'\n",
       "32. 'nlme'\n",
       "33. 'nnet'\n",
       "34. 'nutshell'\n",
       "35. 'nutshell.audioscrobbler'\n",
       "36. 'nutshell.bbdb'\n",
       "37. 'parallel'\n",
       "38. 'pbdZMQ'\n",
       "39. 'pillar'\n",
       "40. 'repr'\n",
       "41. 'rlang'\n",
       "42. 'rpart'\n",
       "43. 'spatial'\n",
       "44. 'splines'\n",
       "45. 'stats'\n",
       "46. 'stats4'\n",
       "47. 'survival'\n",
       "48. 'tcltk'\n",
       "49. 'tools'\n",
       "50. 'utf8'\n",
       "51. 'utils'\n",
       "52. 'uuid'\n",
       "53. 'vctrs'\n",
       "\n",
       "\n"
      ],
      "text/plain": [
       " [1] \"assertthat\"              \"base\"                   \n",
       " [3] \"base64enc\"               \"boot\"                   \n",
       " [5] \"class\"                   \"cli\"                    \n",
       " [7] \"cluster\"                 \"codetools\"              \n",
       " [9] \"compiler\"                \"crayon\"                 \n",
       "[11] \"datasets\"                \"digest\"                 \n",
       "[13] \"ellipsis\"                \"evaluate\"               \n",
       "[15] \"fansi\"                   \"foreign\"                \n",
       "[17] \"glue\"                    \"graphics\"               \n",
       "[19] \"grDevices\"               \"grid\"                   \n",
       "[21] \"htmltools\"               \"IRdisplay\"              \n",
       "[23] \"IRkernel\"                \"jsonlite\"               \n",
       "[25] \"KernSmooth\"              \"lattice\"                \n",
       "[27] \"lifecycle\"               \"MASS\"                   \n",
       "[29] \"Matrix\"                  \"methods\"                \n",
       "[31] \"mgcv\"                    \"nlme\"                   \n",
       "[33] \"nnet\"                    \"nutshell\"               \n",
       "[35] \"nutshell.audioscrobbler\" \"nutshell.bbdb\"          \n",
       "[37] \"parallel\"                \"pbdZMQ\"                 \n",
       "[39] \"pillar\"                  \"repr\"                   \n",
       "[41] \"rlang\"                   \"rpart\"                  \n",
       "[43] \"spatial\"                 \"splines\"                \n",
       "[45] \"stats\"                   \"stats4\"                 \n",
       "[47] \"survival\"                \"tcltk\"                  \n",
       "[49] \"tools\"                   \"utf8\"                   \n",
       "[51] \"utils\"                   \"uuid\"                   \n",
       "[53] \"vctrs\"                  "
      ]
     },
     "metadata": {},
     "output_type": "display_data"
    }
   ],
   "source": [
    "# 已安装的R包的清单\n",
    "(.packages(all.available=TRUE));\n",
    "library();"
   ]
  },
  {
   "cell_type": "markdown",
   "metadata": {},
   "source": [
    "# 加载R包"
   ]
  },
  {
   "cell_type": "code",
   "execution_count": 8,
   "metadata": {},
   "outputs": [
    {
     "data": {
      "text/html": [
       "<style>\n",
       ".list-inline {list-style: none; margin:0; padding: 0}\n",
       ".list-inline>li {display: inline-block}\n",
       ".list-inline>li:not(:last-child)::after {content: \"\\00b7\"; padding: 0 .5ex}\n",
       "</style>\n",
       "<ol class=list-inline><li>'rpart'</li><li>'stats'</li><li>'graphics'</li><li>'grDevices'</li><li>'utils'</li><li>'datasets'</li><li>'methods'</li><li>'base'</li></ol>\n"
      ],
      "text/latex": [
       "\\begin{enumerate*}\n",
       "\\item 'rpart'\n",
       "\\item 'stats'\n",
       "\\item 'graphics'\n",
       "\\item 'grDevices'\n",
       "\\item 'utils'\n",
       "\\item 'datasets'\n",
       "\\item 'methods'\n",
       "\\item 'base'\n",
       "\\end{enumerate*}\n"
      ],
      "text/markdown": [
       "1. 'rpart'\n",
       "2. 'stats'\n",
       "3. 'graphics'\n",
       "4. 'grDevices'\n",
       "5. 'utils'\n",
       "6. 'datasets'\n",
       "7. 'methods'\n",
       "8. 'base'\n",
       "\n",
       "\n"
      ],
      "text/plain": [
       "[1] \"rpart\"     \"stats\"     \"graphics\"  \"grDevices\" \"utils\"     \"datasets\" \n",
       "[7] \"methods\"   \"base\"     "
      ]
     },
     "metadata": {},
     "output_type": "display_data"
    }
   ],
   "source": [
    "library(rpart)\n",
    "(.packages())"
   ]
  },
  {
   "cell_type": "code",
   "execution_count": 17,
   "metadata": {},
   "outputs": [
    {
     "name": "stderr",
     "output_type": "stream",
     "text": [
      "also installing the dependencies ‘Rcpp’, ‘matrixStats’, ‘RcppArmadillo’, ‘SparseM’, ‘MatrixModels’, ‘conquer’, ‘abc.data’, ‘quantreg’, ‘locfit’\n",
      "\n",
      "\n"
     ]
    }
   ],
   "source": [
    "# installed.packages()     # 已安装的包的信息\n",
    "# available.packages()     # 资源库中可用的R包\n",
    "# old.packages()           # 已安装包的新版本 \n",
    "# new.packages()           # 可从资源库中获取的当前未安装的包\n",
    "# download.packages(\"abc\", destdir=\"~/Downloads/\") # 下载包到本地\n",
    "install.packages(c(\"abc\")) # 从资源库下载安装包\n",
    "remove.packages(c(\"abc\"), .Library) # 移除已安装的包\n",
    "# ?setRepositories         # 设置资源库列表"
   ]
  },
  {
   "cell_type": "code",
   "execution_count": null,
   "metadata": {},
   "outputs": [],
   "source": [
    "# 从Github安装包\n",
    "# install.packages(\"devtools\")\n",
    "# library(devtools)\n",
    "# devtools::install_github(\"tidyverse/ggplot2\")"
   ]
  },
  {
   "cell_type": "markdown",
   "metadata": {},
   "source": [
    "# 定制R包\n",
    "\n",
    "`package.skeleton(..)`\n",
    "\n",
    "见Writing R Extensions.\n",
    "\n"
   ]
  }
 ],
 "metadata": {
  "kernelspec": {
   "display_name": "R",
   "language": "R",
   "name": "ir"
  },
  "language_info": {
   "codemirror_mode": "r",
   "file_extension": ".r",
   "mimetype": "text/x-r-source",
   "name": "R",
   "pygments_lexer": "r",
   "version": "4.0.2"
  },
  "toc": {
   "base_numbering": 1,
   "nav_menu": {},
   "number_sections": true,
   "sideBar": true,
   "skip_h1_title": false,
   "title_cell": "Table of Contents",
   "title_sidebar": "Contents",
   "toc_cell": false,
   "toc_position": {},
   "toc_section_display": true,
   "toc_window_display": true
  }
 },
 "nbformat": 4,
 "nbformat_minor": 4
}
