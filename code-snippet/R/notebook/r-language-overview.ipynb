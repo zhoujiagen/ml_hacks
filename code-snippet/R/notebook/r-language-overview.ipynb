{
 "cells": [
  {
   "cell_type": "markdown",
   "metadata": {},
   "source": [
    "# 表达式"
   ]
  },
  {
   "cell_type": "code",
   "execution_count": 1,
   "metadata": {},
   "outputs": [
    {
     "data": {
      "text/html": [
       "'no'"
      ],
      "text/latex": [
       "'no'"
      ],
      "text/markdown": [
       "'no'"
      ],
      "text/plain": [
       "[1] \"no\""
      ]
     },
     "metadata": {},
     "output_type": "display_data"
    },
    {
     "data": {
      "text/html": [
       "7"
      ],
      "text/latex": [
       "7"
      ],
      "text/markdown": [
       "7"
      ],
      "text/plain": [
       "[1] 7"
      ]
     },
     "metadata": {},
     "output_type": "display_data"
    }
   ],
   "source": [
    "# R代码由一系列表达式构成, 例: 赋值语句, 条件语句, 算术表达式\n",
    "# 表达式由对象和函数构成\n",
    "# 使用换行符或分号分隔表达式\n",
    "\n",
    "x <- 1\n",
    "if (1 > 2) \"yes\" else \"no\"\n",
    "127 %% 10"
   ]
  },
  {
   "cell_type": "code",
   "execution_count": 4,
   "metadata": {},
   "outputs": [
    {
     "data": {
      "text/html": [
       "'this expression will be printed'"
      ],
      "text/latex": [
       "'this expression will be printed'"
      ],
      "text/markdown": [
       "'this expression will be printed'"
      ],
      "text/plain": [
       "[1] \"this expression will be printed\""
      ]
     },
     "metadata": {},
     "output_type": "display_data"
    },
    {
     "data": {
      "text/html": [
       "20"
      ],
      "text/latex": [
       "20"
      ],
      "text/markdown": [
       "20"
      ],
      "text/plain": [
       "[1] 20"
      ]
     },
     "metadata": {},
     "output_type": "display_data"
    },
    {
     "data": {
      "text/html": [
       "-1+0i"
      ],
      "text/latex": [
       "-1+0i"
      ],
      "text/markdown": [
       "-1+0i"
      ],
      "text/plain": [
       "[1] -1+0i"
      ]
     },
     "metadata": {},
     "output_type": "display_data"
    }
   ],
   "source": [
    "\"this expression will be printed\"; 7 + 13; exp(0+1i*pi)"
   ]
  },
  {
   "cell_type": "markdown",
   "metadata": {},
   "source": [
    "# 对象(object)"
   ]
  },
  {
   "cell_type": "code",
   "execution_count": 6,
   "metadata": {},
   "outputs": [
    {
     "data": {
      "text/html": [
       "<style>\n",
       ".list-inline {list-style: none; margin:0; padding: 0}\n",
       ".list-inline>li {display: inline-block}\n",
       ".list-inline>li:not(:last-child)::after {content: \"\\00b7\"; padding: 0 .5ex}\n",
       "</style>\n",
       "<ol class=list-inline><li>1</li><li>2</li><li>3</li><li>4</li><li>5</li></ol>\n"
      ],
      "text/latex": [
       "\\begin{enumerate*}\n",
       "\\item 1\n",
       "\\item 2\n",
       "\\item 3\n",
       "\\item 4\n",
       "\\item 5\n",
       "\\end{enumerate*}\n"
      ],
      "text/markdown": [
       "1. 1\n",
       "2. 2\n",
       "3. 3\n",
       "4. 4\n",
       "5. 5\n",
       "\n",
       "\n"
      ],
      "text/plain": [
       "[1] 1 2 3 4 5"
      ]
     },
     "metadata": {},
     "output_type": "display_data"
    },
    {
     "data": {
      "text/html": [
       "'This is ano object too'"
      ],
      "text/latex": [
       "'This is ano object too'"
      ],
      "text/markdown": [
       "'This is ano object too'"
      ],
      "text/plain": [
       "[1] \"This is ano object too\""
      ]
     },
     "metadata": {},
     "output_type": "display_data"
    },
    {
     "data": {
      "text/html": [
       "<ol>\n",
       "\t<li><style>\n",
       ".list-inline {list-style: none; margin:0; padding: 0}\n",
       ".list-inline>li {display: inline-block}\n",
       ".list-inline>li:not(:last-child)::after {content: \"\\00b7\"; padding: 0 .5ex}\n",
       "</style>\n",
       "<ol class=list-inline><li>1</li><li>2</li><li>3</li><li>4</li><li>5</li></ol>\n",
       "</li>\n",
       "\t<li>'This is an object too'</li>\n",
       "\t<li>' this while thing is a list'</li>\n",
       "</ol>\n"
      ],
      "text/latex": [
       "\\begin{enumerate}\n",
       "\\item \\begin{enumerate*}\n",
       "\\item 1\n",
       "\\item 2\n",
       "\\item 3\n",
       "\\item 4\n",
       "\\item 5\n",
       "\\end{enumerate*}\n",
       "\n",
       "\\item 'This is an object too'\n",
       "\\item ' this while thing is a list'\n",
       "\\end{enumerate}\n"
      ],
      "text/markdown": [
       "1. 1. 1\n",
       "2. 2\n",
       "3. 3\n",
       "4. 4\n",
       "5. 5\n",
       "\n",
       "\n",
       "\n",
       "2. 'This is an object too'\n",
       "3. ' this while thing is a list'\n",
       "\n",
       "\n"
      ],
      "text/plain": [
       "[[1]]\n",
       "[1] 1 2 3 4 5\n",
       "\n",
       "[[2]]\n",
       "[1] \"This is an object too\"\n",
       "\n",
       "[[3]]\n",
       "[1] \" this while thing is a list\"\n"
      ]
     },
     "metadata": {},
     "output_type": "display_data"
    },
    {
     "data": {
      "text/html": [
       "<pre class=language-r><code>function (x, y) \n",
       "{\n",
       "<span style=white-space:pre-wrap>    x + y</span>\n",
       "}</code></pre>"
      ],
      "text/latex": [
       "\\begin{minted}{r}\n",
       "function (x, y) \n",
       "\\{\n",
       "    x + y\n",
       "\\}\n",
       "\\end{minted}"
      ],
      "text/markdown": [
       "```r\n",
       "function (x, y) \n",
       "{\n",
       "    x + y\n",
       "}\n",
       "```"
      ],
      "text/plain": [
       "function(x,y) {x+y}"
      ]
     },
     "metadata": {},
     "output_type": "display_data"
    }
   ],
   "source": [
    "# 所有R代码都用于操作对象, 例: 数值型向量, 字符型向量, 列表, 函数等\n",
    "# R中的一切都是对象: 函数, 符号, 表达式\n",
    "\n",
    "c(1,2,3,4,5)               # 数值型向量\n",
    "\"This is ano object too\"   # 字符型向量\n",
    "list(c(1,2,3,4,5), \"This is an object too\", \" this while thing is a list\") # 列表\n",
    "function(x,y) {x+y}        # 函数"
   ]
  },
  {
   "cell_type": "markdown",
   "metadata": {},
   "source": [
    "# 符号(symbol)"
   ]
  },
  {
   "cell_type": "code",
   "execution_count": 7,
   "metadata": {},
   "outputs": [],
   "source": [
    "# R中变量的名称称为符号\n",
    "# 将一个对象赋给变量名时, 是将改对下给你赋给当前环境中的一个符号\n",
    "# 环境: 在特定上下文中被定义的一组符号的总和\n",
    "\n",
    "x <- 1"
   ]
  },
  {
   "cell_type": "markdown",
   "metadata": {},
   "source": [
    "# 函数"
   ]
  },
  {
   "cell_type": "code",
   "execution_count": 12,
   "metadata": {},
   "outputs": [
    {
     "data": {
      "text/html": [
       "<style>\n",
       ".list-inline {list-style: none; margin:0; padding: 0}\n",
       ".list-inline>li {display: inline-block}\n",
       ".list-inline>li:not(:last-child)::after {content: \"\\00b7\"; padding: 0 .5ex}\n",
       "</style>\n",
       "<ol class=list-inline><li>'cow'</li><li>'chicken'</li><li>'pig'</li><li>'tuba'</li></ol>\n"
      ],
      "text/latex": [
       "\\begin{enumerate*}\n",
       "\\item 'cow'\n",
       "\\item 'chicken'\n",
       "\\item 'pig'\n",
       "\\item 'tuba'\n",
       "\\end{enumerate*}\n"
      ],
      "text/markdown": [
       "1. 'cow'\n",
       "2. 'chicken'\n",
       "3. 'pig'\n",
       "4. 'tuba'\n",
       "\n",
       "\n"
      ],
      "text/plain": [
       "[1] \"cow\"     \"chicken\" \"pig\"     \"tuba\"   "
      ]
     },
     "metadata": {},
     "output_type": "display_data"
    },
    {
     "data": {
      "text/html": [
       "<style>\n",
       ".list-inline {list-style: none; margin:0; padding: 0}\n",
       ".list-inline>li {display: inline-block}\n",
       ".list-inline>li:not(:last-child)::after {content: \"\\00b7\"; padding: 0 .5ex}\n",
       "</style>\n",
       "<ol class=list-inline><li>'cow'</li><li>'chicken'</li><li>'pig'</li><li>'duck'</li></ol>\n"
      ],
      "text/latex": [
       "\\begin{enumerate*}\n",
       "\\item 'cow'\n",
       "\\item 'chicken'\n",
       "\\item 'pig'\n",
       "\\item 'duck'\n",
       "\\end{enumerate*}\n"
      ],
      "text/markdown": [
       "1. 'cow'\n",
       "2. 'chicken'\n",
       "3. 'pig'\n",
       "4. 'duck'\n",
       "\n",
       "\n"
      ],
      "text/plain": [
       "[1] \"cow\"     \"chicken\" \"pig\"     \"duck\"   "
      ]
     },
     "metadata": {},
     "output_type": "display_data"
    },
    {
     "data": {
      "text/html": [
       "<style>\n",
       ".list-inline {list-style: none; margin:0; padding: 0}\n",
       ".list-inline>li {display: inline-block}\n",
       ".list-inline>li:not(:last-child)::after {content: \"\\00b7\"; padding: 0 .5ex}\n",
       "</style>\n",
       "<ol class=list-inline><li>'cow'</li><li>'chicken'</li><li>'pig'</li><li>'duck2'</li></ol>\n"
      ],
      "text/latex": [
       "\\begin{enumerate*}\n",
       "\\item 'cow'\n",
       "\\item 'chicken'\n",
       "\\item 'pig'\n",
       "\\item 'duck2'\n",
       "\\end{enumerate*}\n"
      ],
      "text/markdown": [
       "1. 'cow'\n",
       "2. 'chicken'\n",
       "3. 'pig'\n",
       "4. 'duck2'\n",
       "\n",
       "\n"
      ],
      "text/plain": [
       "[1] \"cow\"     \"chicken\" \"pig\"     \"duck2\"  "
      ]
     },
     "metadata": {},
     "output_type": "display_data"
    }
   ],
   "source": [
    "# 函数是R中的一个特殊对象\n",
    "# R中所有语句都可以写成函数, 包括: 设定变量, 数学运算和代码循环\n",
    "\n",
    "animals <- c(\"cow\", \"chicken\", \"pig\", \"tuba\")\n",
    "animals\n",
    "animals[4] <- \"duck\"\n",
    "animals\n",
    "`[<-`(animals, 4, \"duck2\") # 函数版本"
   ]
  },
  {
   "cell_type": "code",
   "execution_count": 18,
   "metadata": {},
   "outputs": [
    {
     "data": {
      "text/html": [
       "4"
      ],
      "text/latex": [
       "4"
      ],
      "text/markdown": [
       "4"
      ],
      "text/plain": [
       "[1] 4"
      ]
     },
     "metadata": {},
     "output_type": "display_data"
    },
    {
     "data": {
      "text/html": [
       "9"
      ],
      "text/latex": [
       "9"
      ],
      "text/markdown": [
       "9"
      ],
      "text/plain": [
       "[1] 9"
      ]
     },
     "metadata": {},
     "output_type": "display_data"
    },
    {
     "data": {
      "text/html": [
       "9"
      ],
      "text/latex": [
       "9"
      ],
      "text/markdown": [
       "9"
      ],
      "text/plain": [
       "[1] 9"
      ]
     },
     "metadata": {},
     "output_type": "display_data"
    },
    {
     "data": {
      "text/html": [
       "'oranges'"
      ],
      "text/latex": [
       "'oranges'"
      ],
      "text/markdown": [
       "'oranges'"
      ],
      "text/plain": [
       "[1] \"oranges\""
      ]
     },
     "metadata": {},
     "output_type": "display_data"
    },
    {
     "data": {
      "text/html": [
       "'oranges'"
      ],
      "text/latex": [
       "'oranges'"
      ],
      "text/markdown": [
       "'oranges'"
      ],
      "text/plain": [
       "[1] \"oranges\""
      ]
     },
     "metadata": {},
     "output_type": "display_data"
    },
    {
     "data": {
      "text/html": [
       "'orange'"
      ],
      "text/latex": [
       "'orange'"
      ],
      "text/markdown": [
       "'orange'"
      ],
      "text/plain": [
       "[1] \"orange\""
      ]
     },
     "metadata": {},
     "output_type": "display_data"
    },
    {
     "data": {
      "text/html": [
       "'orange'"
      ],
      "text/latex": [
       "'orange'"
      ],
      "text/markdown": [
       "'orange'"
      ],
      "text/plain": [
       "[1] \"orange\""
      ]
     },
     "metadata": {},
     "output_type": "display_data"
    }
   ],
   "source": [
    "apples <- 4\n",
    "`<-`(apples, 4) # 赋值操作的函数形式\n",
    "apples\n",
    "\n",
    "\n",
    "`<-`(oranges, 5)\n",
    "\n",
    "apples + oranges\n",
    "`+`(apples, oranges) # 四则运算的函数形式\n",
    "\n",
    "if (apples > oranges) \"apples\" else \"oranges\"\n",
    "`if`(apples > oranges, \"apples\", \"oranges\") # if-then语句的函数形式\n",
    "\n",
    "\n",
    "x <- c(\"apple\", \"orange\", \"banana\", \"pear\")\n",
    "x[2]\n",
    "`[`(x, 2)      # 索引向量元素的函数形式"
   ]
  },
  {
   "cell_type": "code",
   "execution_count": 19,
   "metadata": {},
   "outputs": [
    {
     "data": {
      "text/html": [
       "<ol>\n",
       "\t<li>'hat'</li>\n",
       "</ol>\n"
      ],
      "text/latex": [
       "\\begin{enumerate}\n",
       "\\item 'hat'\n",
       "\\end{enumerate}\n"
      ],
      "text/markdown": [
       "1. 'hat'\n",
       "\n",
       "\n"
      ],
      "text/plain": [
       "[[1]]\n",
       "[1] \"hat\"\n"
      ]
     },
     "metadata": {},
     "output_type": "display_data"
    },
    {
     "data": {
      "text/html": [
       "<ol>\n",
       "\t<li>1</li>\n",
       "</ol>\n"
      ],
      "text/latex": [
       "\\begin{enumerate}\n",
       "\\item 1\n",
       "\\end{enumerate}\n"
      ],
      "text/markdown": [
       "1. 1\n",
       "\n",
       "\n"
      ],
      "text/plain": [
       "[[1]]\n",
       "[1] 1\n"
      ]
     },
     "metadata": {},
     "output_type": "display_data"
    }
   ],
   "source": [
    "# 在赋值语句中, 对下会被复制\n",
    "\n",
    "u <- list(1)\n",
    "v <- u\n",
    "\n",
    "u[[1]] <- \"hat\"\n",
    "\n",
    "u\n",
    "v"
   ]
  },
  {
   "cell_type": "code",
   "execution_count": 20,
   "metadata": {},
   "outputs": [
    {
     "data": {
      "text/html": [
       "<style>\n",
       ".list-inline {list-style: none; margin:0; padding: 0}\n",
       ".list-inline>li {display: inline-block}\n",
       ".list-inline>li:not(:last-child)::after {content: \"\\00b7\"; padding: 0 .5ex}\n",
       "</style>\n",
       "<ol class=list-inline><li>10</li><li>11</li><li>12</li><li>13</li></ol>\n"
      ],
      "text/latex": [
       "\\begin{enumerate*}\n",
       "\\item 10\n",
       "\\item 11\n",
       "\\item 12\n",
       "\\item 13\n",
       "\\end{enumerate*}\n"
      ],
      "text/markdown": [
       "1. 10\n",
       "2. 11\n",
       "3. 12\n",
       "4. 13\n",
       "\n",
       "\n"
      ],
      "text/plain": [
       "[1] 10 11 12 13"
      ]
     },
     "metadata": {},
     "output_type": "display_data"
    }
   ],
   "source": [
    "f <- function(x, i) { x[i] = 4 } # 包括向量和列表等\n",
    "w <- c(10,11,12,13)\n",
    "f(w, 1)\n",
    "w"
   ]
  },
  {
   "cell_type": "markdown",
   "metadata": {},
   "source": [
    "# 特殊值"
   ]
  },
  {
   "cell_type": "code",
   "execution_count": 25,
   "metadata": {},
   "outputs": [
    {
     "data": {
      "text/html": [
       "<style>\n",
       ".list-inline {list-style: none; margin:0; padding: 0}\n",
       ".list-inline>li {display: inline-block}\n",
       ".list-inline>li:not(:last-child)::after {content: \"\\00b7\"; padding: 0 .5ex}\n",
       "</style>\n",
       "<ol class=list-inline><li>1</li><li>2</li><li>3</li></ol>\n"
      ],
      "text/latex": [
       "\\begin{enumerate*}\n",
       "\\item 1\n",
       "\\item 2\n",
       "\\item 3\n",
       "\\end{enumerate*}\n"
      ],
      "text/markdown": [
       "1. 1\n",
       "2. 2\n",
       "3. 3\n",
       "\n",
       "\n"
      ],
      "text/plain": [
       "[1] 1 2 3"
      ]
     },
     "metadata": {},
     "output_type": "display_data"
    },
    {
     "data": {
      "text/html": [
       "<style>\n",
       ".list-inline {list-style: none; margin:0; padding: 0}\n",
       ".list-inline>li {display: inline-block}\n",
       ".list-inline>li:not(:last-child)::after {content: \"\\00b7\"; padding: 0 .5ex}\n",
       "</style>\n",
       "<ol class=list-inline><li>1</li><li>2</li><li>3</li><li>&lt;NA&gt;</li></ol>\n"
      ],
      "text/latex": [
       "\\begin{enumerate*}\n",
       "\\item 1\n",
       "\\item 2\n",
       "\\item 3\n",
       "\\item <NA>\n",
       "\\end{enumerate*}\n"
      ],
      "text/markdown": [
       "1. 1\n",
       "2. 2\n",
       "3. 3\n",
       "4. &lt;NA&gt;\n",
       "\n",
       "\n"
      ],
      "text/plain": [
       "[1]  1  2  3 NA"
      ]
     },
     "metadata": {},
     "output_type": "display_data"
    },
    {
     "data": {
      "text/html": [
       "Inf"
      ],
      "text/latex": [
       "Inf"
      ],
      "text/markdown": [
       "Inf"
      ],
      "text/plain": [
       "[1] Inf"
      ]
     },
     "metadata": {},
     "output_type": "display_data"
    },
    {
     "data": {
      "text/html": [
       "-Inf"
      ],
      "text/latex": [
       "-Inf"
      ],
      "text/markdown": [
       "-Inf"
      ],
      "text/plain": [
       "[1] -Inf"
      ]
     },
     "metadata": {},
     "output_type": "display_data"
    },
    {
     "data": {
      "text/html": [
       "Inf"
      ],
      "text/latex": [
       "Inf"
      ],
      "text/markdown": [
       "Inf"
      ],
      "text/plain": [
       "[1] Inf"
      ]
     },
     "metadata": {},
     "output_type": "display_data"
    },
    {
     "data": {
      "text/html": [
       "NaN"
      ],
      "text/latex": [
       "NaN"
      ],
      "text/markdown": [
       "NaN"
      ],
      "text/plain": [
       "[1] NaN"
      ]
     },
     "metadata": {},
     "output_type": "display_data"
    },
    {
     "data": {
      "text/html": [
       "NaN"
      ],
      "text/latex": [
       "NaN"
      ],
      "text/markdown": [
       "NaN"
      ],
      "text/plain": [
       "[1] NaN"
      ]
     },
     "metadata": {},
     "output_type": "display_data"
    },
    {
     "data": {
      "text/plain": [
       "NULL"
      ]
     },
     "metadata": {},
     "output_type": "display_data"
    }
   ],
   "source": [
    "# NA, Inf, -Inf, NaN, NULL\n",
    "\n",
    "v <- c(1,2,3)\n",
    "v\n",
    "length(v) <- 4\n",
    "v\n",
    "\n",
    "2 ^ 1024\n",
    "- 2 ^ 1024\n",
    "1 / 0\n",
    "\n",
    "Inf - Inf\n",
    "0 / 0\n",
    "\n",
    "NULL"
   ]
  },
  {
   "cell_type": "markdown",
   "metadata": {},
   "source": [
    "# 强制转换"
   ]
  },
  {
   "cell_type": "code",
   "execution_count": 26,
   "metadata": {},
   "outputs": [
    {
     "data": {
      "text/html": [
       "<style>\n",
       ".list-inline {list-style: none; margin:0; padding: 0}\n",
       ".list-inline>li {display: inline-block}\n",
       ".list-inline>li:not(:last-child)::after {content: \"\\00b7\"; padding: 0 .5ex}\n",
       "</style>\n",
       "<ol class=list-inline><li>1</li><li>2</li><li>3</li><li>4</li><li>5</li></ol>\n"
      ],
      "text/latex": [
       "\\begin{enumerate*}\n",
       "\\item 1\n",
       "\\item 2\n",
       "\\item 3\n",
       "\\item 4\n",
       "\\item 5\n",
       "\\end{enumerate*}\n"
      ],
      "text/markdown": [
       "1. 1\n",
       "2. 2\n",
       "3. 3\n",
       "4. 4\n",
       "5. 5\n",
       "\n",
       "\n"
      ],
      "text/plain": [
       "[1] 1 2 3 4 5"
      ]
     },
     "metadata": {},
     "output_type": "display_data"
    },
    {
     "data": {
      "text/html": [
       "'double'"
      ],
      "text/latex": [
       "'double'"
      ],
      "text/markdown": [
       "'double'"
      ],
      "text/plain": [
       "[1] \"double\""
      ]
     },
     "metadata": {},
     "output_type": "display_data"
    },
    {
     "data": {
      "text/html": [
       "'numeric'"
      ],
      "text/latex": [
       "'numeric'"
      ],
      "text/markdown": [
       "'numeric'"
      ],
      "text/plain": [
       "[1] \"numeric\""
      ]
     },
     "metadata": {},
     "output_type": "display_data"
    },
    {
     "data": {
      "text/html": [
       "<style>\n",
       ".list-inline {list-style: none; margin:0; padding: 0}\n",
       ".list-inline>li {display: inline-block}\n",
       ".list-inline>li:not(:last-child)::after {content: \"\\00b7\"; padding: 0 .5ex}\n",
       "</style>\n",
       "<ol class=list-inline><li>'1'</li><li>'hat'</li><li>'3'</li><li>'4'</li><li>'5'</li></ol>\n"
      ],
      "text/latex": [
       "\\begin{enumerate*}\n",
       "\\item '1'\n",
       "\\item 'hat'\n",
       "\\item '3'\n",
       "\\item '4'\n",
       "\\item '5'\n",
       "\\end{enumerate*}\n"
      ],
      "text/markdown": [
       "1. '1'\n",
       "2. 'hat'\n",
       "3. '3'\n",
       "4. '4'\n",
       "5. '5'\n",
       "\n",
       "\n"
      ],
      "text/plain": [
       "[1] \"1\"   \"hat\" \"3\"   \"4\"   \"5\"  "
      ]
     },
     "metadata": {},
     "output_type": "display_data"
    },
    {
     "data": {
      "text/html": [
       "'character'"
      ],
      "text/latex": [
       "'character'"
      ],
      "text/markdown": [
       "'character'"
      ],
      "text/plain": [
       "[1] \"character\""
      ]
     },
     "metadata": {},
     "output_type": "display_data"
    },
    {
     "data": {
      "text/html": [
       "'character'"
      ],
      "text/latex": [
       "'character'"
      ],
      "text/markdown": [
       "'character'"
      ],
      "text/plain": [
       "[1] \"character\""
      ]
     },
     "metadata": {},
     "output_type": "display_data"
    }
   ],
   "source": [
    "# 两种自动强制转换: 强制转换为标准对象, 强制转换为内建类型\n",
    "\n",
    "# 强制转换函数\n",
    "\n",
    "# R会将特殊的对象类型转换为较为一般的对象类型\n",
    "\n",
    "x <- c(1,2,3,4,5)\n",
    "x\n",
    "typeof(x)\n",
    "class(x)\n",
    "\n",
    "x[2] <- \"hat\"\n",
    "x\n",
    "typeof(x)\n",
    "class(x)"
   ]
  },
  {
   "cell_type": "code",
   "execution_count": 28,
   "metadata": {},
   "outputs": [],
   "source": [
    "# 强制转换的基本规则\n",
    "\n",
    "# 逻辑型转换为数值型是, TRUE转换为1, FALSE转换为0\n",
    "# 对象的值被转换为展示所有信息所需要的最简单的类型\n",
    "# 一般的顺序是logical < integer < numberic < complex < character < list\n",
    "# 类型为raw的对象不会转换为其它类型\n",
    "# 当对象被换换位其它类型时, 对象的属性会被删除"
   ]
  },
  {
   "cell_type": "code",
   "execution_count": null,
   "metadata": {},
   "outputs": [],
   "source": [
    "# 将参数传递给函数时禁止强制转换: AsIs函数, I函数"
   ]
  },
  {
   "cell_type": "markdown",
   "metadata": {},
   "source": [
    "# R解释器"
   ]
  },
  {
   "cell_type": "code",
   "execution_count": 33,
   "metadata": {},
   "outputs": [
    {
     "data": {
      "text/html": [
       "<pre class=language-r><code>.Primitive(\".Internal\")</code></pre>"
      ],
      "text/latex": [
       "\\begin{minted}{r}\n",
       ".Primitive(\".Internal\")\n",
       "\\end{minted}"
      ],
      "text/markdown": [
       "```r\n",
       ".Primitive(\".Internal\")\n",
       "```"
      ],
      "text/plain": [
       "function (call)  .Primitive(\".Internal\")"
      ]
     },
     "metadata": {},
     "output_type": "display_data"
    },
    {
     "data": {
      "text/html": [
       "<pre class=language-r><code>.Primitive(\".External\")</code></pre>"
      ],
      "text/latex": [
       "\\begin{minted}{r}\n",
       ".Primitive(\".External\")\n",
       "\\end{minted}"
      ],
      "text/markdown": [
       "```r\n",
       ".Primitive(\".External\")\n",
       "```"
      ],
      "text/plain": [
       "function (.NAME, ..., PACKAGE)  .Primitive(\".External\")"
      ]
     },
     "metadata": {},
     "output_type": "display_data"
    },
    {
     "data": {
      "text/html": [
       "<pre class=language-r><code>function (xy, type, pch = par(\"pch\"), lty = par(\"lty\"), col = par(\"col\"), \n",
       "<span style=white-space:pre-wrap>    bg = NA, cex = 1, lwd = par(\"lwd\"), ...) </span>\n",
       "invisible(.External.graphics(C_plotXY, xy, type, pch, lty, col, \n",
       "<span style=white-space:pre-wrap>    bg, cex, lwd, ...))</span></code></pre>"
      ],
      "text/latex": [
       "\\begin{minted}{r}\n",
       "function (xy, type, pch = par(\"pch\"), lty = par(\"lty\"), col = par(\"col\"), \n",
       "    bg = NA, cex = 1, lwd = par(\"lwd\"), ...) \n",
       "invisible(.External.graphics(C\\_plotXY, xy, type, pch, lty, col, \n",
       "    bg, cex, lwd, ...))\n",
       "\\end{minted}"
      ],
      "text/markdown": [
       "```r\n",
       "function (xy, type, pch = par(\"pch\"), lty = par(\"lty\"), col = par(\"col\"), \n",
       "    bg = NA, cex = 1, lwd = par(\"lwd\"), ...) \n",
       "invisible(.External.graphics(C_plotXY, xy, type, pch, lty, col, \n",
       "    bg, cex, lwd, ...))\n",
       "```"
      ],
      "text/plain": [
       "function (xy, type, pch = par(\"pch\"), lty = par(\"lty\"), col = par(\"col\"), \n",
       "    bg = NA, cex = 1, lwd = par(\"lwd\"), ...) \n",
       "invisible(.External.graphics(C_plotXY, xy, type, pch, lty, col, \n",
       "    bg, cex, lwd, ...))\n",
       "<bytecode: 0x7fccacfe67a0>\n",
       "<environment: namespace:graphics>"
      ]
     },
     "metadata": {},
     "output_type": "display_data"
    },
    {
     "data": {
      "text/html": [
       "<pre class=language-r><code>.Primitive(\"&lt;-\")</code></pre>"
      ],
      "text/latex": [
       "\\begin{minted}{r}\n",
       ".Primitive(\"<-\")\n",
       "\\end{minted}"
      ],
      "text/markdown": [
       "```r\n",
       ".Primitive(\"<-\")\n",
       "```"
      ],
      "text/plain": [
       ".Primitive(\"<-\")"
      ]
     },
     "metadata": {},
     "output_type": "display_data"
    }
   ],
   "source": [
    "# R是一门解释型语言.\n",
    "\n",
    "# R系统内嵌了一些功能, 可以通过.Internal函数调用.\n",
    ".Internal\n",
    ".External\n",
    "\n",
    "plot.xy\n",
    "\n",
    "`<-`"
   ]
  },
  {
   "cell_type": "markdown",
   "metadata": {},
   "source": [
    "# 观察R是如何工作的"
   ]
  },
  {
   "cell_type": "code",
   "execution_count": 38,
   "metadata": {},
   "outputs": [
    {
     "data": {
      "text/html": [
       "'apple'"
      ],
      "text/latex": [
       "'apple'"
      ],
      "text/markdown": [
       "'apple'"
      ],
      "text/plain": [
       "[1] \"apple\""
      ]
     },
     "metadata": {},
     "output_type": "display_data"
    },
    {
     "data": {
      "text/html": [
       "'language'"
      ],
      "text/latex": [
       "'language'"
      ],
      "text/markdown": [
       "'language'"
      ],
      "text/plain": [
       "[1] \"language\""
      ]
     },
     "metadata": {},
     "output_type": "display_data"
    },
    {
     "data": {
      "text/plain": [
       "if (x > 1) \"orange\" else \"apple\""
      ]
     },
     "metadata": {},
     "output_type": "display_data"
    },
    {
     "data": {
      "text/plain": [
       "[[1]]\n",
       "`if`\n",
       "\n",
       "[[2]]\n",
       "x > 1\n",
       "\n",
       "[[3]]\n",
       "[1] \"orange\"\n",
       "\n",
       "[[4]]\n",
       "[1] \"apple\"\n"
      ]
     },
     "metadata": {},
     "output_type": "display_data"
    },
    {
     "data": {
      "text/html": [
       "<ol>\n",
       "\t<li>'symbol'</li>\n",
       "\t<li>'language'</li>\n",
       "\t<li>'character'</li>\n",
       "\t<li>'character'</li>\n",
       "</ol>\n"
      ],
      "text/latex": [
       "\\begin{enumerate}\n",
       "\\item 'symbol'\n",
       "\\item 'language'\n",
       "\\item 'character'\n",
       "\\item 'character'\n",
       "\\end{enumerate}\n"
      ],
      "text/markdown": [
       "1. 'symbol'\n",
       "2. 'language'\n",
       "3. 'character'\n",
       "4. 'character'\n",
       "\n",
       "\n"
      ],
      "text/plain": [
       "[[1]]\n",
       "[1] \"symbol\"\n",
       "\n",
       "[[2]]\n",
       "[1] \"language\"\n",
       "\n",
       "[[3]]\n",
       "[1] \"character\"\n",
       "\n",
       "[[4]]\n",
       "[1] \"character\"\n"
      ]
     },
     "metadata": {},
     "output_type": "display_data"
    }
   ],
   "source": [
    "x <- 1\n",
    "if (x > 1) \"orange\" else \"apple\" # 表达式\n",
    "typeof(quote(if (x > 1) \"orange\" else \"apple\"))\n",
    "quote(if (x > 1) \"orange\" else \"apple\")    # 帮助演示表达式的解析过程: 解析并不执行; 返回语言对象\n",
    "    \n",
    "as(quote(if (x > 1) \"orange\" else \"apple\"), \"list\") # 语法树  \n",
    "\n",
    "lapply(as(quote(if (x > 1) \"orange\" else \"apple\"), \"list\"), typeof) # 语法树中节点的类型"
   ]
  },
  {
   "cell_type": "code",
   "execution_count": 41,
   "metadata": {},
   "outputs": [
    {
     "data": {
      "text/plain": [
       "[[1]]\n",
       "`[`\n",
       "\n",
       "[[2]]\n",
       "x\n",
       "\n",
       "[[3]]\n",
       "[1] 2\n"
      ]
     },
     "metadata": {},
     "output_type": "display_data"
    },
    {
     "data": {
      "text/plain": [
       "[[1]]\n",
       "`[`\n",
       "\n",
       "[[2]]\n",
       "x\n",
       "\n",
       "[[3]]\n",
       "[1] 2\n"
      ]
     },
     "metadata": {},
     "output_type": "display_data"
    }
   ],
   "source": [
    "as.list(quote(x[2]))\n",
    "as.list(quote(`[`(x,2)))"
   ]
  },
  {
   "cell_type": "code",
   "execution_count": 42,
   "metadata": {},
   "outputs": [
    {
     "data": {
      "text/html": [
       "'x[2]'"
      ],
      "text/latex": [
       "'x{[}2{]}'"
      ],
      "text/markdown": [
       "'x[2]'"
      ],
      "text/plain": [
       "[1] \"x[2]\""
      ]
     },
     "metadata": {},
     "output_type": "display_data"
    },
    {
     "data": {
      "text/html": [
       "'x[2]'"
      ],
      "text/latex": [
       "'x{[}2{]}'"
      ],
      "text/markdown": [
       "'x[2]'"
      ],
      "text/plain": [
       "[1] \"x[2]\""
      ]
     },
     "metadata": {},
     "output_type": "display_data"
    }
   ],
   "source": [
    "deparse(quote(x[2]))      # 将语法树转换回合适格式的R代码\n",
    "deparse(quote(`[`(x,2)))"
   ]
  }
 ],
 "metadata": {
  "kernelspec": {
   "display_name": "R",
   "language": "R",
   "name": "ir"
  },
  "language_info": {
   "codemirror_mode": "r",
   "file_extension": ".r",
   "mimetype": "text/x-r-source",
   "name": "R",
   "pygments_lexer": "r",
   "version": "4.0.2"
  },
  "toc": {
   "base_numbering": 1,
   "nav_menu": {},
   "number_sections": true,
   "sideBar": true,
   "skip_h1_title": false,
   "title_cell": "Table of Contents",
   "title_sidebar": "Contents",
   "toc_cell": false,
   "toc_position": {},
   "toc_section_display": true,
   "toc_window_display": true
  }
 },
 "nbformat": 4,
 "nbformat_minor": 4
}
